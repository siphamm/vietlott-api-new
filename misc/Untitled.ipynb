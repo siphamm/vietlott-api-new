{
 "cells": [
  {
   "cell_type": "code",
   "execution_count": 35,
   "id": "629c2067-6c8f-4b50-9685-d48610329088",
   "metadata": {},
   "outputs": [
    {
     "data": {
      "text/plain": [
       "array([['2023-09-29', '02 08 24 27 30 43'],\n",
       "       ['2023-09-27', '03 12 22 30 37 39'],\n",
       "       ['2023-09-24', '04 08 23 27 30 36'],\n",
       "       ...,\n",
       "       ['2016-07-22', '03 04 14 20 25 35'],\n",
       "       ['2016-07-20', '02 17 33 37 38 45'],\n",
       "       ['2023-10-01', '02 11 13 16 41 43']], dtype=object)"
      ]
     },
     "execution_count": 35,
     "metadata": {},
     "output_type": "execute_result"
    }
   ],
   "source": [
    "import pandas as pd\n",
    "df = pd.read_csv(\"data/vietlott-results.csv\", dtype=str)\n",
    "df1 = df.loc[df[\"lotteryType\"] == \"645\", [\"date\", \"result\"]]\n",
    "df1.values"
   ]
  }
 ],
 "metadata": {
  "kernelspec": {
   "display_name": "Python 3 (ipykernel)",
   "language": "python",
   "name": "python3"
  },
  "language_info": {
   "codemirror_mode": {
    "name": "ipython",
    "version": 3
   },
   "file_extension": ".py",
   "mimetype": "text/x-python",
   "name": "python",
   "nbconvert_exporter": "python",
   "pygments_lexer": "ipython3",
   "version": "3.11.5"
  }
 },
 "nbformat": 4,
 "nbformat_minor": 5
}
